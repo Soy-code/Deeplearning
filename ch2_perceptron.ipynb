{
  "nbformat": 4,
  "nbformat_minor": 0,
  "metadata": {
    "colab": {
      "name": "ch2_perceptron.ipynb",
      "provenance": [],
      "collapsed_sections": [],
      "authorship_tag": "ABX9TyOvZC3gJcnHSZ+A8Tr7HGbT"
    },
    "kernelspec": {
      "name": "python3",
      "display_name": "Python 3"
    }
  },
  "cells": [
    {
      "cell_type": "markdown",
      "metadata": {
        "id": "TVRHFv82-fuM"
      },
      "source": [
        "# 2.1 퍼셉트론이란? "
      ]
    },
    {
      "cell_type": "markdown",
      "metadata": {
        "id": "-TgvOOuO-wFt"
      },
      "source": [
        "Perceptron : 프랑크 로젠블라트가 1957년에 고안한 알고리즘. 퍼셉트론이 신경망(딥러닝)의 기원이 되는 알고리즘. \r\n",
        "- 다수의 신호를 받아서 하나의 신호를 출력함. \r\n",
        "- 그 신호는 흐른다(1)/안흐른다(0)의 두가지로 출력함 "
      ]
    },
    {
      "cell_type": "markdown",
      "metadata": {
        "id": "E3I4oxc9E4DF"
      },
      "source": [
        "# 2.2 단순한 논리회로\r\n",
        "- AND, NAND, OR 등 \r\n",
        "- 여기서 가중치나 임계값 등은 hyperparameter."
      ]
    },
    {
      "cell_type": "markdown",
      "metadata": {
        "id": "3n4TXz2eExtS"
      },
      "source": [
        "# 2.3 퍼셉트론 구현하기"
      ]
    },
    {
      "cell_type": "code",
      "metadata": {
        "colab": {
          "base_uri": "https://localhost:8080/"
        },
        "id": "SopYsI4-E1dI",
        "outputId": "7442abc8-c0e8-4d50-d70c-4b957c440276"
      },
      "source": [
        "# 1. AND gate 간단한 구현\r\n",
        "def AND(x1, x2) : \r\n",
        "  w1, w2, theta = 0.5, 0.5, 0.7\r\n",
        "  tmp = x1*w1 + x2*w2 \r\n",
        "  if tmp <= theta : \r\n",
        "    return 0\r\n",
        "  elif tmp > theta :\r\n",
        "    return 1\r\n",
        "\r\n",
        "print(AND(0, 0))\r\n",
        "print(AND(1, 0))\r\n",
        "print(AND(0, 1))\r\n",
        "print(AND(1, 1))"
      ],
      "execution_count": null,
      "outputs": [
        {
          "output_type": "stream",
          "text": [
            "0\n",
            "0\n",
            "0\n",
            "1\n"
          ],
          "name": "stdout"
        }
      ]
    },
    {
      "cell_type": "code",
      "metadata": {
        "colab": {
          "base_uri": "https://localhost:8080/"
        },
        "id": "bCIR5LuEFrQ6",
        "outputId": "5590e2c0-2ae5-4905-86d4-8560ebf81314"
      },
      "source": [
        "# 2. 가중치와 편향 도입 \r\n",
        "import numpy as np\r\n",
        "x = np.array([0, 1])\r\n",
        "w = np.array([0.5, 0.5])\r\n",
        "b = - 0.7  # theta 값에 -를 붙임. 이를 편향이라고 칭함. \r\n",
        "\r\n",
        "print(w*x)\r\n",
        "print(np.sum(w*x)) \r\n",
        "print(np.sum(w*x) + b)"
      ],
      "execution_count": null,
      "outputs": [
        {
          "output_type": "stream",
          "text": [
            "[0.  0.5]\n",
            "0.5\n",
            "-0.19999999999999996\n"
          ],
          "name": "stdout"
        }
      ]
    },
    {
      "cell_type": "code",
      "metadata": {
        "id": "F4BQpOeUHh32"
      },
      "source": [
        "# 3. 가중치와 편향 구현하기 \r\n",
        "def AND(x1, x2) :\r\n",
        "  x = np.array([x1, x2])\r\n",
        "  w = np.array([0.5, 0.5])\r\n",
        "  b = -0.7\r\n",
        "  tmp = np.sum(w*x) + b\r\n",
        "  if tmp <= 0 :\r\n",
        "    return 0\r\n",
        "  else :\r\n",
        "    return 1"
      ],
      "execution_count": null,
      "outputs": []
    },
    {
      "cell_type": "markdown",
      "metadata": {
        "id": "xlalxFcjJ0qX"
      },
      "source": [
        "가중치와 편향의 역할은 다름. \r\n",
        "- 가중치(w1, w2) : 각 입력 신호가 결과에 주는 영향력(중요도)을 조절하는 매개변수. \r\n",
        "- 편향 : 뉴런이 얼마나 쉽게 활성화(결과로 1을 출력)하느냐를 조정하는 매개변수.<br> \r\n",
        "\r\n",
        "<br> \r\n",
        "예를 들어, b가 -0.1이면 각 입력 신호에 가중치를 곱한 값들의 합이 0.1을 초과할 때만 뉴런이 활성화 됨. 반면 b가 -20.0이면 각 입력 신호에 가중치를 곱한 값들이 20.0을 넘지 않으면 뉴런은 활성화 되지 않음. 이처럼 편향의 값은 뉴련이 얼마나 쉽게 활성화되는지 결정함. "
      ]
    },
    {
      "cell_type": "code",
      "metadata": {
        "id": "XFTHrTJvKTcF"
      },
      "source": [
        "# NAND 구현\r\n",
        "def NAND(x1, x2) :\r\n",
        "  x = np.array([x1, x2])\r\n",
        "  w = np.array([-0.5, -0.5]) # and와 반대 부호\r\n",
        "  b = 0.7 # and와 반대 부호 \r\n",
        "  tmp = np.sum(w*x) + b\r\n",
        "  if tmp <= 0 :\r\n",
        "    return 0\r\n",
        "  else :\r\n",
        "    return 1\r\n",
        "\r\n",
        "\r\n",
        "# OR 구현\r\n",
        "def OR(x1, x2) :\r\n",
        "  x = np.array([x1, x2])\r\n",
        "  w = np.array([0.5, 0.5])\r\n",
        "  b = -0.2 \r\n",
        "  tmp = np.sum(w*x)  + b\r\n",
        "  if tmp <= 0 :\r\n",
        "    return 0\r\n",
        "  else :\r\n",
        "    return 1"
      ],
      "execution_count": null,
      "outputs": []
    },
    {
      "cell_type": "markdown",
      "metadata": {
        "id": "Cy6fd6EBN3i_"
      },
      "source": [
        "# 2.4 퍼셉트론의 한계"
      ]
    },
    {
      "cell_type": "markdown",
      "metadata": {
        "id": "GbeqYhcxOFbv"
      },
      "source": [
        "XOR 게이트 : 배타적 논리. x1, x2 중 하나만 1인 값을 가질 때 1을 출력. <br>\r\n",
        "$\\rightarrow$ 선형 퍼셉트론에서는 못 만듦. 하지만 선형을 가정하지 않은 비선형에 대해서는 가능. \r\n",
        "$\\rightarrow$ 퍼셉트론은 직선 하나로 나눈 영역만 표현할 수 있다는 한계가 있음."
      ]
    },
    {
      "cell_type": "markdown",
      "metadata": {
        "id": "wiNcAmPnOazK"
      },
      "source": [
        "# 2.5 다층 퍼셉트론이 충돌한다면"
      ]
    },
    {
      "cell_type": "markdown",
      "metadata": {
        "id": "ezUkTePyRJHY"
      },
      "source": [
        "XOR은 퍼셉트론으로는 구현이 불가함. 다층 퍼셉트론(multi-layer perceptron)의 개념이 이제 도입됨."
      ]
    },
    {
      "cell_type": "code",
      "metadata": {
        "id": "ImZLpq4fWRVC"
      },
      "source": [
        "# 2. XOR 게이트 구현하기\r\n",
        "def XOR(x1, x2) :\r\n",
        "  s1 = NAND(x1, x2) \r\n",
        "  s2 = OR(x1, x2)\r\n",
        "  y = AND(s1, s2)\r\n",
        "  return y"
      ],
      "execution_count": null,
      "outputs": []
    },
    {
      "cell_type": "code",
      "metadata": {
        "colab": {
          "base_uri": "https://localhost:8080/"
        },
        "id": "rq9HlkyZWhby",
        "outputId": "bc9125e1-972d-4f8b-eaac-8f27904bc7cb"
      },
      "source": [
        "print(XOR(0, 0))\r\n",
        "print(XOR(1, 0))\r\n",
        "print(XOR(0, 1))\r\n",
        "print(XOR(1, 1))"
      ],
      "execution_count": null,
      "outputs": [
        {
          "output_type": "stream",
          "text": [
            "0\n",
            "1\n",
            "1\n",
            "0\n"
          ],
          "name": "stdout"
        }
      ]
    },
    {
      "cell_type": "markdown",
      "metadata": {
        "id": "A6270jQdXT4a"
      },
      "source": [
        "방금 2-layer perceptron을 이용하여 XOR 게이트를 구현해 보았음. 이와 같이 비선형적인 표현은 다층 퍼셉트론을 이용하여 가능함. <br>\r\n",
        "다층 퍼셉트론 만으로도 (그 중 NAND 만으로도) 컴퓨터를 만드는 일이 가능함. \r\n",
        "비선형적인 시그모이드 함수를 활성화 함수로 이용하면 임의의 함수를 표현할 수 있다는 사실이 증명됨(3장에서). ..."
      ]
    },
    {
      "cell_type": "code",
      "metadata": {
        "id": "k7j2OKN8Zjm2"
      },
      "source": [
        ""
      ],
      "execution_count": null,
      "outputs": []
    }
  ]
}
