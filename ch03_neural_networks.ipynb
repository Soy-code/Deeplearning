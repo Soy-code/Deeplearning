{
  "nbformat": 4,
  "nbformat_minor": 0,
  "metadata": {
    "colab": {
      "name": "ch03_neural_networks.ipynb",
      "provenance": [],
      "collapsed_sections": [],
      "authorship_tag": "ABX9TyPIpDuWvGiRQShxFDRLvyDT"
    },
    "kernelspec": {
      "name": "python3",
      "display_name": "Python 3"
    }
  },
  "cells": [
    {
      "cell_type": "markdown",
      "metadata": {
        "id": "afOui-Qha49Z"
      },
      "source": [
        "2장에서 배운 perceptron은 복잡한 함수도 표현할 수 있다는 장점을 가짐. 하지만, 매개변수는 여전히 수동으로 작업해야 함. 2장에서는 진리표를 보면서 적절한 가중치  값을 우리가 직접 정했음. <br> \r\n",
        "신경망은 이걸 해결해줌. 가중치 매개변수의 적절한 값을 데이터로부터 자동으로 학습하는 능력이 신경망의 중요한 성질. <br>\r\n",
        "신경망의 개요 설명, 신경망의 입력 데이터가 무엇인지를 식별하는 처리 과정 파악. <br> \r\n",
        "가중치 매개변수를 학습하는 방법은 다음 장에서."
      ]
    },
    {
      "cell_type": "markdown",
      "metadata": {
        "id": "Mtl88lQqcBXj"
      },
      "source": [
        "# 3.1 퍼셉트론에서 신경망으로"
      ]
    },
    {
      "cell_type": "markdown",
      "metadata": {
        "id": "fl2_2wNOcEAW"
      },
      "source": [
        "1. 신경망의 예\r\n",
        "* 입력층, 은닉층, 출력층으로 구성됨\r\n",
        "* 가중치를 갖는 층의 개수에 따라 층이 정해짐. 즉, 가중치를 갖는 층이 두 개이면 2층 신경망이라고 함. \r\n"
      ]
    },
    {
      "cell_type": "markdown",
      "metadata": {
        "id": "MJtUm8ItgVvb"
      },
      "source": [
        "2. 퍼셉트론 복습\r\n",
        "$$\r\n",
        "y = \r\n",
        "\\begin{cases}\r\n",
        "0, & (b + w_1x_1 + w_2x_2 \\le 0) \\\\ \r\n",
        "1, & (b + w_1x_1 + w_2x_2 \\ge 0)\r\n",
        "\\end{cases}\r\n",
        "$$\r\n",
        "\r\n",
        "위의 식은 아래와 같이 간단하게 나타낼 수 있다.\r\n",
        "\r\n",
        "$$\r\n",
        "y =  h(b + w_1x_1 + w_2x_2) \\\\\r\n",
        "where \\\\\r\n",
        "h(x) = \r\n",
        "\\begin{cases}\r\n",
        "0, & (x \\le 0) \\\\ \r\n",
        "1, & (x \\ge 0)\r\n",
        "\\end{cases}\r\n",
        "$$\r\n"
      ]
    },
    {
      "cell_type": "markdown",
      "metadata": {
        "id": "JL2zNJ0xgZ5J"
      },
      "source": [
        "3. 활성화 함수 (activation function) : 입력 신호의 총합을 출력 신호로 변환하는 함수  \r\n",
        "- 활성화 함수는 입력 신호의 총합이 활성화를 일으키는지 정하는 역할을 함. \r\n"
      ]
    },
    {
      "cell_type": "markdown",
      "metadata": {
        "id": "K9rcbErnqVVE"
      },
      "source": [
        "※ 단순/다층 퍼셉트론\r\n",
        "- 단순 퍼셉트론 : 단층 네트워크에서 계단 함수(임계값을 경계로 출력이 바뀌는 함수)를 활성화 함수로 사용한 모델을 가리킴. \r\n",
        "- 다층 퍼셉트론 : 신경망(여러 층으로 구성되고 시그모이드 함수 등의 매끈한 활성화 함수를 사용하는 네트워크)을 가리킴."
      ]
    },
    {
      "cell_type": "markdown",
      "metadata": {
        "id": "BogQ6W1oq5cM"
      },
      "source": [
        "# 3.2 활성화 함수"
      ]
    },
    {
      "cell_type": "markdown",
      "metadata": {
        "id": "NVX2XPqeq9pD"
      },
      "source": [
        "- 계단 함수(step function) : 임계값을 경계로 출력이 바뀌는 함수. 퍼셉트론에서는 활성화 함수로 계단 함수를 이용한다고 말할 수 있음. <br>\r\n",
        "\r\n",
        "여기서 활성화 함수를 계단 함수 말고 다른 함수를 사용하는 것이 신경망의 기초. "
      ]
    },
    {
      "cell_type": "markdown",
      "metadata": {
        "id": "jCAUbFr6r7MG"
      },
      "source": [
        "1. 시그모이드 함수(sigmoid function) \r\n",
        "$$\r\n",
        "h(x) = {1 \\over {1 + e^{-x}}}\r\n",
        "$$\r\n",
        "신경망에서는 활성화 함수로 시그모이드 함수를 이용하여 신호를 변환하고, 그 변환된 신호를 다음 뉴런에 전달함. 이것이 퍼셉트론과의 주된 차이임. \r\n"
      ]
    },
    {
      "cell_type": "code",
      "metadata": {
        "id": "IduG7LpWtUzS"
      },
      "source": [
        "# 2. 계단 함수 구현하기\r\n",
        "\r\n",
        "def step_function(x) :\r\n",
        "  if x > 0 :\r\n",
        "    return 1\r\n",
        "  else :\r\n",
        "    return 0\r\n"
      ],
      "execution_count": 158,
      "outputs": []
    },
    {
      "cell_type": "markdown",
      "metadata": {
        "id": "53kmCgFbtqoV"
      },
      "source": [
        "위의 step_function()은 실수만 받아들임. array 형태는 받아들이지 않음. "
      ]
    },
    {
      "cell_type": "code",
      "metadata": {
        "id": "qteSbinstlcE"
      },
      "source": [
        "def step_function(x) :\r\n",
        "  y = x > 0\r\n",
        "  return y.astype(np.int)"
      ],
      "execution_count": 159,
      "outputs": []
    },
    {
      "cell_type": "code",
      "metadata": {
        "colab": {
          "base_uri": "https://localhost:8080/"
        },
        "id": "SrN3XNkDuAlO",
        "outputId": "fd5c2ab7-810b-4e8a-a970-5d35b0afa881"
      },
      "source": [
        "import numpy as np\r\n",
        "\r\n",
        "x = np.array([-1.0, 1.0, 2.0])\r\n",
        "y = x > 0 \r\n",
        "print(y)\r\n",
        "print(y.astype(np.int))"
      ],
      "execution_count": 160,
      "outputs": [
        {
          "output_type": "stream",
          "text": [
            "[False  True  True]\n",
            "[0 1 1]\n"
          ],
          "name": "stdout"
        }
      ]
    },
    {
      "cell_type": "code",
      "metadata": {
        "colab": {
          "base_uri": "https://localhost:8080/",
          "height": 265
        },
        "id": "m3XP5300uIPV",
        "outputId": "523e6c7d-90d1-436d-dade-50793fdac5ea"
      },
      "source": [
        "# 3. 계단 함수 그래프\r\n",
        "import numpy as np\r\n",
        "import matplotlib.pylab as plt\r\n",
        "\r\n",
        "def step_function(x) :\r\n",
        "  return np.array(x > 0, dtype = np.int)\r\n",
        "\r\n",
        "x = np.arange(-5.0, 5.0, 0.1)\r\n",
        "y = step_function(x) \r\n",
        "plt.plot(x, y)\r\n",
        "plt.ylim(-0.1, 1.1)\r\n",
        "plt.show()"
      ],
      "execution_count": 161,
      "outputs": [
        {
          "output_type": "display_data",
          "data": {
            "image/png": "[encoded data removed]",
            "text/plain": [
              "<Figure size 432x288 with 1 Axes>"
            ]
          },
          "metadata": {
            "tags": [],
            "needs_background": "light"
          }
        }
      ]
    },
    {
      "cell_type": "code",
      "metadata": {
        "colab": {
          "base_uri": "https://localhost:8080/"
        },
        "id": "ahmt-IbOwcLs",
        "outputId": "81b9a2d8-a567-4121-bdfb-d67da4b6303b"
      },
      "source": [
        "# 4. 시그모이드 함수 그래프\r\n",
        "def sigmoid(x) :\r\n",
        "  return 1 / (1 + np.exp(-x)) \r\n",
        "\r\n",
        "\r\n",
        "x = np.array([-1.0, 1.0, 2.0])\r\n",
        "sigmoid(x)"
      ],
      "execution_count": 162,
      "outputs": [
        {
          "output_type": "execute_result",
          "data": {
            "text/plain": [
              "array([0.26894142, 0.73105858, 0.88079708])"
            ]
          },
          "metadata": {
            "tags": []
          },
          "execution_count": 162
        }
      ]
    },
    {
      "cell_type": "markdown",
      "metadata": {
        "id": "8qiAbCWxwv2K"
      },
      "source": [
        "* numpy의 broadcast : 넘파이 배열과 스칼라값의 연산을 넘파이 배열의 원소 각각과 스칼라 값의 연산으로 수행하는 것. "
      ]
    },
    {
      "cell_type": "code",
      "metadata": {
        "colab": {
          "base_uri": "https://localhost:8080/"
        },
        "id": "dhXMCsj4xfdL",
        "outputId": "54f45b6d-1b47-43e5-9bf8-ec9088ff3483"
      },
      "source": [
        "t = np.array([1.0, 2.0, 3.0])\r\n",
        "print(1.0 + t) \r\n",
        "print(1.0 / t)"
      ],
      "execution_count": 163,
      "outputs": [
        {
          "output_type": "stream",
          "text": [
            "[2. 3. 4.]\n",
            "[1.         0.5        0.33333333]\n"
          ],
          "name": "stdout"
        }
      ]
    },
    {
      "cell_type": "code",
      "metadata": {
        "colab": {
          "base_uri": "https://localhost:8080/",
          "height": 265
        },
        "id": "YQtLs7htxmFs",
        "outputId": "c2c99684-2378-46b1-c835-7fe0e41757d7"
      },
      "source": [
        "x = np.arange(-5.0, 5.0, 0.1)\r\n",
        "y = sigmoid(x)\r\n",
        "\r\n",
        "plt.plot(x, y)\r\n",
        "plt.ylim(-0.1, 1.1)\r\n",
        "plt.show()"
      ],
      "execution_count": 164,
      "outputs": [
        {
          "output_type": "display_data",
          "data": {
            "image/png": "[encoded data removed]",
            "text/plain": [
              "<Figure size 432x288 with 1 Axes>"
            ]
          },
          "metadata": {
            "tags": [],
            "needs_background": "light"
          }
        }
      ]
    },
    {
      "cell_type": "markdown",
      "metadata": {
        "id": "L0ULOpesx21y"
      },
      "source": [
        "5. 시그모이드 함수와 계단 함수 비교"
      ]
    },
    {
      "cell_type": "markdown",
      "metadata": {
        "id": "zyH8yCAix9Ll"
      },
      "source": [
        "- 차이점  \r\n",
        "시그모이드 함수는 부드러운 곡선이며, 입력에 따라 출력이 연속적으로 변화함. 계단 함수는 0을 경계로 출력이 갑자기 바뀌어버림.  \r\n",
        "퍼셉트론에서는 뉴런 사이에 0 또는 1이 흘렀다면, 신경망에서는 연속적인 실수가 흐름. "
      ]
    },
    {
      "cell_type": "markdown",
      "metadata": {
        "id": "T2azdrlQ0lZV"
      },
      "source": [
        "* 공통점  \r\n",
        "큰 관점에서 보면 두 함수는 같은 모양을 하고 있음. 둘 다 입력이 작을 때 출력은 0에 가깝고(또는 0이고), 입력이 커지면 출력이 1에 가까워지는(혹은 1이 되는) 구조임. 계단 함수와 시그모이드 함수는 입력이 중요하면 큰 값을 출력하고 입력이 중요하지 않으면 작은 값을 출력함. 그리고 함수값은 0과 1 사이 값임. "
      ]
    },
    {
      "cell_type": "markdown",
      "metadata": {
        "id": "VzrQdM9t16-W"
      },
      "source": [
        "6. 비선형 함수"
      ]
    },
    {
      "cell_type": "markdown",
      "metadata": {
        "id": "c_Rxo_-A2KrJ"
      },
      "source": [
        "신경망에서는 활성화 함수로 비선형 함수를 사용함. 그 이유는 선형 함수를 이용하면 신경망의 층을 깊게 하는 의미가 없어지기 때문.   \r\n",
        "$\\rightarrow$ 선형함수의 문제는 층을 아무리 깊게 해도 은닉층이 없는 네트워크로도 똑같은 기능을 할 수 있음. "
      ]
    },
    {
      "cell_type": "markdown",
      "metadata": {
        "id": "P3tARR4z2dFR"
      },
      "source": [
        "7. ReLU 함수  \r\n",
        "신경망 분야에서 Sigmoid를 주로 사용했으나 최근에는 ReLU함수를 주로 이용.  \r\n",
        "ReLU는 입력이 0을 넘으면 입력을 그대로 출력, 0을 넘지 않으면 0으로 출력. "
      ]
    },
    {
      "cell_type": "code",
      "metadata": {
        "id": "QhIYfhxNaSiC"
      },
      "source": [
        "# relu 구현\r\n",
        "def relu(x) :\r\n",
        "  return np.maximum(0, x)"
      ],
      "execution_count": 165,
      "outputs": []
    },
    {
      "cell_type": "markdown",
      "metadata": {
        "id": "sTi8un_Na2bk"
      },
      "source": [
        "# 3.3 다차원 배열의 계산  \r\n",
        "넘파이의 다차원 배열을 사용한 계산법"
      ]
    },
    {
      "cell_type": "markdown",
      "metadata": {
        "id": "p68tpK9ga5y1"
      },
      "source": [
        "1. 다차원 배열"
      ]
    },
    {
      "cell_type": "code",
      "metadata": {
        "colab": {
          "base_uri": "https://localhost:8080/"
        },
        "id": "DZeuvqaKbUxY",
        "outputId": "3aa904bb-3131-4023-c1c3-d7b192d07d25"
      },
      "source": [
        "# 1차원 배열 \r\n",
        "\r\n",
        "import numpy as np\r\n",
        "A = np.array([1, 2, 3, 4])\r\n",
        "print(A) \r\n",
        "print(np.ndim(A)) # dimension = 1\r\n",
        "print(A.shape) # tuple 반환 "
      ],
      "execution_count": 166,
      "outputs": [
        {
          "output_type": "stream",
          "text": [
            "[1 2 3 4]\n",
            "1\n",
            "(4,)\n"
          ],
          "name": "stdout"
        }
      ]
    },
    {
      "cell_type": "code",
      "metadata": {
        "colab": {
          "base_uri": "https://localhost:8080/"
        },
        "id": "WvO6MxBwbiU_",
        "outputId": "36c85004-04f5-4022-9146-d49a80e04b0a"
      },
      "source": [
        "# 2차원 배열 \r\n",
        "\r\n",
        "B = np.array([[1, 2], [3, 4], [5, 6]])  # dimension = 2:  matri\r\n",
        "print(B)\r\n",
        "print(np.ndim(B))\r\n",
        "print(B.shape) "
      ],
      "execution_count": 167,
      "outputs": [
        {
          "output_type": "stream",
          "text": [
            "[[1 2]\n",
            " [3 4]\n",
            " [5 6]]\n",
            "2\n",
            "(3, 2)\n"
          ],
          "name": "stdout"
        }
      ]
    },
    {
      "cell_type": "markdown",
      "metadata": {
        "id": "GIpFhZeyb-SI"
      },
      "source": [
        "2. 행렬의 곱"
      ]
    },
    {
      "cell_type": "code",
      "metadata": {
        "colab": {
          "base_uri": "https://localhost:8080/"
        },
        "id": "tfMshravcJzh",
        "outputId": "3124e055-1f16-48c1-d6b5-24cf5179e24f"
      },
      "source": [
        "A = np.array([[1, 2], [3, 4]]) # 2 X 2 \r\n",
        "print(A)\r\n",
        "print(A.shape)\r\n",
        "print(\"==========================================\")\r\n",
        "B = np.array([[5, 6], [7, 8]]) # 2 X 2\r\n",
        "print(B)\r\n",
        "print(B.shape)\r\n",
        "np.dot(A, B)  # A %*% B"
      ],
      "execution_count": 168,
      "outputs": [
        {
          "output_type": "stream",
          "text": [
            "[[1 2]\n",
            " [3 4]]\n",
            "(2, 2)\n",
            "==========================================\n",
            "[[5 6]\n",
            " [7 8]]\n",
            "(2, 2)\n"
          ],
          "name": "stdout"
        },
        {
          "output_type": "execute_result",
          "data": {
            "text/plain": [
              "array([[19, 22],\n",
              "       [43, 50]])"
            ]
          },
          "metadata": {
            "tags": []
          },
          "execution_count": 168
        }
      ]
    },
    {
      "cell_type": "code",
      "metadata": {
        "colab": {
          "base_uri": "https://localhost:8080/"
        },
        "id": "tqAi74Nvdg82",
        "outputId": "2fd8ca8d-1885-495b-9a88-fd8052a9c38c"
      },
      "source": [
        "A = np.array([[1, 2, 3], [4, 5, 6]]) # 2 X 3\r\n",
        "print(A)\r\n",
        "print(A.shape)\r\n",
        "print(\"========================================\")\r\n",
        "B = np.array([[1, 2], [3, 4], [5, 6]]) # 3 X 2\r\n",
        "print(B)\r\n",
        "print(B.shape)\r\n",
        "np.dot(A, B)  "
      ],
      "execution_count": 169,
      "outputs": [
        {
          "output_type": "stream",
          "text": [
            "[[1 2 3]\n",
            " [4 5 6]]\n",
            "(2, 3)\n",
            "========================================\n",
            "[[1 2]\n",
            " [3 4]\n",
            " [5 6]]\n",
            "(3, 2)\n"
          ],
          "name": "stdout"
        },
        {
          "output_type": "execute_result",
          "data": {
            "text/plain": [
              "array([[22, 28],\n",
              "       [49, 64]])"
            ]
          },
          "metadata": {
            "tags": []
          },
          "execution_count": 169
        }
      ]
    },
    {
      "cell_type": "code",
      "metadata": {
        "colab": {
          "base_uri": "https://localhost:8080/"
        },
        "id": "khWa0I2GeNX6",
        "outputId": "1b2f9449-56d0-4378-fcfc-c556d8ad35dd"
      },
      "source": [
        "A = np.array([[1, 2], [3, 4], [5, 6]])\r\n",
        "print(A.shape)\r\n",
        "B = np.array([7, 8])\r\n",
        "print(B.shape)\r\n",
        "\r\n",
        "print(np.dot(A, B))\r\n",
        "print(np.dot(A, B).shape)"
      ],
      "execution_count": 170,
      "outputs": [
        {
          "output_type": "stream",
          "text": [
            "(3, 2)\n",
            "(2,)\n",
            "[23 53 83]\n",
            "(3,)\n"
          ],
          "name": "stdout"
        }
      ]
    },
    {
      "cell_type": "markdown",
      "metadata": {
        "id": "aRosxoX1erkO"
      },
      "source": [
        "3. 신경망에서의 행렬 곱"
      ]
    },
    {
      "cell_type": "code",
      "metadata": {
        "colab": {
          "base_uri": "https://localhost:8080/"
        },
        "id": "rXuF04jfmJho",
        "outputId": "8dd187ad-a327-4831-809c-46bc3ad36af9"
      },
      "source": [
        "X = np.array([1, 2])\r\n",
        "print(X.shape)\r\n",
        "\r\n",
        "W = np.array([[1, 3, 5], [2, 4, 6]])\r\n",
        "print(W)\r\n",
        "print(W.shape)\r\n",
        "Y = np.dot(X, W)\r\n",
        "print(Y)"
      ],
      "execution_count": 171,
      "outputs": [
        {
          "output_type": "stream",
          "text": [
            "(2,)\n",
            "[[1 3 5]\n",
            " [2 4 6]]\n",
            "(2, 3)\n",
            "[ 5 11 17]\n"
          ],
          "name": "stdout"
        }
      ]
    },
    {
      "cell_type": "markdown",
      "metadata": {
        "id": "sDi89hJwmujU"
      },
      "source": [
        "# 3.4 3층 신경망 구현하기"
      ]
    },
    {
      "cell_type": "markdown",
      "metadata": {
        "id": "IYppn9jrmzJD"
      },
      "source": [
        "1. 표기법"
      ]
    },
    {
      "cell_type": "markdown",
      "metadata": {
        "id": "oIZ1rcKfp09E"
      },
      "source": [
        "$ w_{12}^{(1)} $ : 앞 층의 2번째 뉴런에서 다음 층의 첫 번째 뉴럭으로 향하는 1층의 가중치.  \\\\\r\n",
        "$a_1^{(1)}$ : 은닉층 1층의 첫 번째 뉴런. \\\\\r\n",
        "$b_1^{(1)}$ : (다음 층의 1번으로 가는 1층의) 편향 뉴런   "
      ]
    },
    {
      "cell_type": "code",
      "metadata": {
        "id": "dvfsdADSqPvi",
        "colab": {
          "base_uri": "https://localhost:8080/"
        },
        "outputId": "98d84ff4-7409-4d08-bf0f-fd66ad2f2cb0"
      },
      "source": [
        "import numpy as np\r\n",
        "\r\n",
        "# 1층 은닉층 \r\n",
        "\r\n",
        "X = np.array([1.0, 0.5])\r\n",
        "W1= np.array([[0.1, 0.3, 0.5], [0.2, 0.4, 0.6]])\r\n",
        "B1 = np.array([0.1, 0.2, 0.3])\r\n",
        "\r\n",
        "print(W1.shape)\r\n",
        "print(X.shape)\r\n",
        "print(B1.shape)\r\n",
        "print(\"=========================\")\r\n",
        "\r\n",
        "A1 = np.dot(X, W1) + B1\r\n",
        "print(A1)"
      ],
      "execution_count": 172,
      "outputs": [
        {
          "output_type": "stream",
          "text": [
            "(2, 3)\n",
            "(2,)\n",
            "(3,)\n",
            "=========================\n",
            "[0.3 0.7 1.1]\n"
          ],
          "name": "stdout"
        }
      ]
    },
    {
      "cell_type": "code",
      "metadata": {
        "colab": {
          "base_uri": "https://localhost:8080/"
        },
        "id": "mucqv46S_y55",
        "outputId": "7ae51736-1607-4e81-fdf1-704ef999f527"
      },
      "source": [
        "Z1 = sigmoid(A1)\r\n",
        "print(Z1)"
      ],
      "execution_count": 173,
      "outputs": [
        {
          "output_type": "stream",
          "text": [
            "[0.57444252 0.66818777 0.75026011]\n"
          ],
          "name": "stdout"
        }
      ]
    },
    {
      "cell_type": "code",
      "metadata": {
        "colab": {
          "base_uri": "https://localhost:8080/"
        },
        "id": "dTpop6klAgNy",
        "outputId": "c55e4804-5e19-470f-f831-bc2be8162d2c"
      },
      "source": [
        "# 2층 은닉층\r\n",
        "\r\n",
        "W2 = np.array([[0.1, 0.4], [0.2, 0.5], [0.3, 0.6]])\r\n",
        "B2 = np.array([0.1, 0.2])\r\n",
        "\r\n",
        "print(Z1.shape)  # 1 X 3\r\n",
        "print(W2.shape)  # 3 X 2\r\n",
        "print(B2.shape)  # 1 X 2\r\n",
        "\r\n",
        "A2 = np.dot(Z1, W2) + B2\r\n",
        "Z2 = sigmoid(A2) "
      ],
      "execution_count": 174,
      "outputs": [
        {
          "output_type": "stream",
          "text": [
            "(3,)\n",
            "(3, 2)\n",
            "(2,)\n"
          ],
          "name": "stdout"
        }
      ]
    },
    {
      "cell_type": "code",
      "metadata": {
        "id": "plN_O4M7EBZm"
      },
      "source": [
        "# 출력층 => 활성화 함수 다름 \r\n",
        "\r\n",
        "def identity_function(x) :\r\n",
        "  return x\r\n",
        "\r\n",
        "W3 = np.array([[0.1, 0.3], [0.2, 0.4]])\r\n",
        "B3 = np.array([0.1, 0.2])\r\n",
        "\r\n",
        "A3 = np.dot(Z2, W3) + B3\r\n",
        "Y = identity_function(A3)"
      ],
      "execution_count": 175,
      "outputs": []
    },
    {
      "cell_type": "markdown",
      "metadata": {
        "id": "__Sd3LAfHybX"
      },
      "source": [
        "출력층의 활성화 함수는 풀고자 하는 문제의 성질에 맞게 정함.   \r\n",
        "예를 들어, 회귀에는 항등 함수를, 2클래스 분류에는 시그모이드 함수를, 다중 클래스 분류에는 소프트맥스 함수를 사용하는 것이 일반적임. "
      ]
    },
    {
      "cell_type": "markdown",
      "metadata": {
        "id": "_9JFGDHiIBrn"
      },
      "source": [
        "3. 구현 정리 "
      ]
    },
    {
      "cell_type": "code",
      "metadata": {
        "id": "Fmia2hZKIEg_"
      },
      "source": [
        "# initialization\r\n",
        "def init_network() :\r\n",
        "  network = {} # dictionary 생성\r\n",
        "  network['W1'] = np.array([[0.1, 0.3, 0.5], [0.2, 0.4, 0.6]])  # 1층에서의 weight\r\n",
        "  network['b1'] = np.array([0.1, 0.2, 0.3]) # 1층에서의 편향 \r\n",
        "  network['W2'] = np.array([[0.1, 0.4], [0.2, 0.5], [0.3, 0.6]])  # 2층에서의 weight\r\n",
        "  network['b2'] = np.array([0.1, 0.2]) # 2층에서의 편향 \r\n",
        "  network['W3'] = np.array([[0.1, 0.3], [0.2, 0.4]]) # 3층에서의 weight \r\n",
        "  network['b3'] = np.array([0.1, 0.2])\r\n",
        "\r\n",
        "  return network\r\n",
        "\r\n",
        "# neural network process\r\n",
        "def forward(network, x) :\r\n",
        "  W1, W2, W3 = network['W1'], network['W2'], network['W3']\r\n",
        "  b1, b2, b3 = network['b1'], network['b2'], network['b3']\r\n",
        "\r\n",
        "  a1 = np.dot(x, W1) + b1  # 1 X 3 \r\n",
        "  z1 = sigmoid(a1)\r\n",
        "  a2 = np.dot(z1, W2) + b2  # 1 X 2\r\n",
        "  z2 = sigmoid(a2)\r\n",
        "  a3 = np.dot(z2, W3) + b3  # 1 X 3\r\n",
        "  y = identity_function(a3)\r\n",
        "\r\n",
        "  return y"
      ],
      "execution_count": 176,
      "outputs": []
    },
    {
      "cell_type": "code",
      "metadata": {
        "colab": {
          "base_uri": "https://localhost:8080/"
        },
        "id": "Wt2xU0oOMdtY",
        "outputId": "ba26bf2a-f2e9-4cf7-ca42-fa6db01eb251"
      },
      "source": [
        "network = init_network()\r\n",
        "x = np.array([1.0, 0.5])\r\n",
        "y = forward(network, x)\r\n",
        "print(y)"
      ],
      "execution_count": 177,
      "outputs": [
        {
          "output_type": "stream",
          "text": [
            "[0.31682708 0.69627909]\n"
          ],
          "name": "stdout"
        }
      ]
    },
    {
      "cell_type": "markdown",
      "metadata": {
        "id": "Oi-AqkdDMs2V"
      },
      "source": [
        "# 3.5 출력층 계산하기"
      ]
    },
    {
      "cell_type": "markdown",
      "metadata": {
        "id": "SXc_ss0VOQu8"
      },
      "source": [
        "신경망은 분류와 회귀에 둘 다 사용될 수 있는데, 이때 활성화 함수가 달라짐.   \r\n",
        "일반적으로 회귀에는 항등 함수를, 분류에는 소프트맥스 함수를 사용."
      ]
    },
    {
      "cell_type": "markdown",
      "metadata": {
        "id": "i6Twz5xvOWfK"
      },
      "source": [
        "1. soft-max 함수"
      ]
    },
    {
      "cell_type": "markdown",
      "metadata": {
        "id": "8CFw2cyyOoEc"
      },
      "source": [
        "$$\r\n",
        "y_k = \\frac{\\exp(a_k)}{\\sum_{i=1}^n \\exp(a_i)}\r\n",
        "$$\r\n",
        "여기서 $n$은 출력층의 뉴런 수, $y_k$는 그 중 k번 째 출력임을 뜻함. "
      ]
    },
    {
      "cell_type": "code",
      "metadata": {
        "colab": {
          "base_uri": "https://localhost:8080/"
        },
        "id": "bGcmJBgRPUez",
        "outputId": "c2ced27d-6de7-49c8-fcd2-5817084c8a45"
      },
      "source": [
        "# 소프트맥스 함수 구현\r\n",
        "\r\n",
        "a = np.array([0.3, 2.9, 4.0])\r\n",
        "\r\n",
        "exp_a = np.exp(a)\r\n",
        "print(exp_a)\r\n",
        "print(\"=======================================\")\r\n",
        "\r\n",
        "sum_exp = np.sum(exp_a)\r\n",
        "print(sum_exp)\r\n",
        "print(\"=======================================\")\r\n",
        "\r\n",
        "y = exp_a / sum_exp\r\n",
        "print(y)"
      ],
      "execution_count": 178,
      "outputs": [
        {
          "output_type": "stream",
          "text": [
            "[ 1.34985881 18.17414537 54.59815003]\n",
            "=======================================\n",
            "74.1221542101633\n",
            "=======================================\n",
            "[0.01821127 0.24519181 0.73659691]\n"
          ],
          "name": "stdout"
        }
      ]
    },
    {
      "cell_type": "code",
      "metadata": {
        "id": "QA-KuRsIPbcp"
      },
      "source": [
        "def softmax(a) :\r\n",
        "  exp_a = np.exp(a) \r\n",
        "  sum_exp_a = np.sum(exp_a)\r\n",
        "  y = exp_a / sum_exp_a\r\n",
        "\r\n",
        "  return y"
      ],
      "execution_count": 179,
      "outputs": []
    },
    {
      "cell_type": "markdown",
      "metadata": {
        "id": "o-T8EtGJP9a1"
      },
      "source": [
        "2. 소프트맥스 함수 구현 시 주의점"
      ]
    },
    {
      "cell_type": "markdown",
      "metadata": {
        "id": "MHDLzd_7QBHc"
      },
      "source": [
        "오버플로 문제. 지수함수는 쉽게 매우 큰 값을 내기 때문에 쉽게 inf가 될 수 있음.이렇게 큰 값으로 나누면 불안정해질 수 있음.  "
      ]
    },
    {
      "cell_type": "markdown",
      "metadata": {
        "id": "lnGNR61-T7Ba"
      },
      "source": [
        "$$\r\n",
        "y_k = \\frac{\\exp(a_k)}{\\sum_{i = 1}^n\\exp(a_i)} = ... = \\frac{\\exp(a_k + C')}{\\sum_{i=1}^n(a_i + C')}\r\n",
        "$$\r\n",
        "여기서 $C'$ 값에 어떤 값을 대입해도 상관없지만, 오버플로를 막을 목적으로는 입력 신호 중 최댓값을 이용하는 것이 일반적. "
      ]
    },
    {
      "cell_type": "code",
      "metadata": {
        "colab": {
          "base_uri": "https://localhost:8080/"
        },
        "id": "SgtU-ieTVEWm",
        "outputId": "50d50784-cdba-4865-95a2-6ada7d3cad0c"
      },
      "source": [
        "# 예시\r\n",
        "\r\n",
        "a = np.array([1010, 1000, 990])\r\n",
        "np.exp(a) / np.sum(np.exp(a))  # inf 값이 나오기 때문에 NaN값이 나옴. (Not a number)"
      ],
      "execution_count": 180,
      "outputs": [
        {
          "output_type": "stream",
          "text": [
            "/usr/local/lib/python3.6/dist-packages/ipykernel_launcher.py:4: RuntimeWarning: overflow encountered in exp\n",
            "  after removing the cwd from sys.path.\n",
            "/usr/local/lib/python3.6/dist-packages/ipykernel_launcher.py:4: RuntimeWarning: invalid value encountered in true_divide\n",
            "  after removing the cwd from sys.path.\n"
          ],
          "name": "stderr"
        },
        {
          "output_type": "execute_result",
          "data": {
            "text/plain": [
              "array([nan, nan, nan])"
            ]
          },
          "metadata": {
            "tags": []
          },
          "execution_count": 180
        }
      ]
    },
    {
      "cell_type": "code",
      "metadata": {
        "colab": {
          "base_uri": "https://localhost:8080/"
        },
        "id": "2g-cPBljVQG4",
        "outputId": "150829d0-aec3-439d-d2ad-12ee54bf17f6"
      },
      "source": [
        "c = np.max(a)\r\n",
        "print(a - c)\r\n",
        "\r\n",
        "np.exp(a - c) / np.sum(np.exp(a - c))"
      ],
      "execution_count": 181,
      "outputs": [
        {
          "output_type": "stream",
          "text": [
            "[  0 -10 -20]\n"
          ],
          "name": "stdout"
        },
        {
          "output_type": "execute_result",
          "data": {
            "text/plain": [
              "array([9.99954600e-01, 4.53978686e-05, 2.06106005e-09])"
            ]
          },
          "metadata": {
            "tags": []
          },
          "execution_count": 181
        }
      ]
    },
    {
      "cell_type": "code",
      "metadata": {
        "id": "dUbaGHG-V8YE"
      },
      "source": [
        "# 보정된 softmax 함수\r\n",
        "\r\n",
        "def softmax(a) :\r\n",
        "  c = np.max(a)\r\n",
        "  exp_a = np.exp(a - c)   # c : maximum input\r\n",
        "  sum_exp_a = np.sum(exp_a)\r\n",
        "  y = exp_a / sum_exp_a\r\n",
        "\r\n",
        "  return y"
      ],
      "execution_count": 182,
      "outputs": []
    },
    {
      "cell_type": "markdown",
      "metadata": {
        "id": "mBT5OfEnXih_"
      },
      "source": [
        "3. 소프트맥수 함수의 특징"
      ]
    },
    {
      "cell_type": "code",
      "metadata": {
        "id": "hHHvw2sdXmze",
        "colab": {
          "base_uri": "https://localhost:8080/"
        },
        "outputId": "d19da9bb-ec17-4b2e-9ea7-9021c00dce18"
      },
      "source": [
        "a = np.array([0.3, 2.9, 4.0])\r\n",
        "y = softmax(a)\r\n",
        "print(y)\r\n",
        "print(np.sum(y))"
      ],
      "execution_count": 183,
      "outputs": [
        {
          "output_type": "stream",
          "text": [
            "[0.01821127 0.24519181 0.73659691]\n",
            "1.0\n"
          ],
          "name": "stdout"
        }
      ]
    },
    {
      "cell_type": "markdown",
      "metadata": {
        "id": "hbccmv_f9EGL"
      },
      "source": [
        " * 소프트맥스의 중요한 성질 중 하나는 출력 값들의 합은 총 1이 됨. 때문에 소프트맥스 함수의 출력을 확률로 해석할 수 있음.   \r\n",
        "위에서 출력된 값들을 해석해보면, \"약 1.8%의 확률로 0번째 클래스, 24.5%의 확률로 1번째 클래스, 그리고 73.7%로 2번째 클래스이다.\" 라고 할 수 있다.   \r\n",
        "즉, 소프트맥스 함수를 이용함으로써 문제를 확률적(통계적)으로 대응할 수 있게 됨."
      ]
    },
    {
      "cell_type": "markdown",
      "metadata": {
        "id": "zMhWPUrN9VBr"
      },
      "source": [
        "* 신경망을 이용한 분류에서는 일반적으로 가장 큰 출력을 내는 뉴련에 해당하는 클래스로만 인식.   \r\n",
        "소프트맥스 함수를 적용해도 출력이 가장 큰 뉴런의 위치는 달라지지 않음. 따라서 신경망으로 분류할 때는 출력층의 소프트맥스 함수를 생략해도 됨. "
      ]
    },
    {
      "cell_type": "markdown",
      "metadata": {
        "id": "rCRMd1P7_CY5"
      },
      "source": [
        "4. 출력층의 뉴런 수 정하기 "
      ]
    },
    {
      "cell_type": "markdown",
      "metadata": {
        "id": "wS7myy0h_UF7"
      },
      "source": [
        "* 분류에서는 분류하고 싶은 클래스 수로 뉴런 수를 설정하는 것이 일반적.   \r\n",
        "예를 들어 숫자 0~9를 분류하고 싶다면 출력층에 10개의 뉴런을 설정. "
      ]
    },
    {
      "cell_type": "markdown",
      "metadata": {
        "id": "LiAGSbsv_fde"
      },
      "source": [
        "# 3.6 손글씨 숫자 인식"
      ]
    },
    {
      "cell_type": "markdown",
      "metadata": {
        "id": "DZhCElHY_zsQ"
      },
      "source": [
        "* 기계학습의 문제 풀이는 학습과 추론(inference)의 두 단계를 거쳐 이뤄짐. 학습 단계에서 모델을 학습하고 추론 단계에서 학습한 모델로 미지의 데이터에 대해서 추론을 수행. "
      ]
    },
    {
      "cell_type": "markdown",
      "metadata": {
        "id": "c3Ovh2Y_Am65"
      },
      "source": [
        "* 여기서는 학습된 매개변수를 사용하여 학습 과정은 생략하고, 추론 과정만 구현.   \r\n",
        "이 추론 과정을 신경망의 순전파(forward propagation)라고 함. "
      ]
    },
    {
      "cell_type": "markdown",
      "metadata": {
        "id": "-2WbAdWJA6Y2"
      },
      "source": [
        "1. MNIST 데이터셋 "
      ]
    },
    {
      "cell_type": "markdown",
      "metadata": {
        "id": "jjXY6FJdBA4E"
      },
      "source": [
        "* 0부터 9까지의 숫자 이미지로 이루어진 데이터셋. 훈련 이미지가 60,000장, 시험 이미지가 10,000장. \r\n",
        "* 이미지 데이터는 28 X 28 크기의 회색조 이미지 (1채널). 각 픽셀은 0에서 255까지의 값을 취함. "
      ]
    },
    {
      "cell_type": "code",
      "metadata": {
        "colab": {
          "base_uri": "https://localhost:8080/"
        },
        "id": "zumlh6ZVM7uH",
        "outputId": "83353bcf-1009-4795-8620-e10d00e590f3"
      },
      "source": [
        "from google.colab import drive\r\n",
        "drive.mount(\"/content/drive\")\r\n",
        "# /content/drive/MyDrive/sdmlab/DL/source/dataset/mnist.py"
      ],
      "execution_count": 184,
      "outputs": [
        {
          "output_type": "stream",
          "text": [
            "Drive already mounted at /content/drive; to attempt to forcibly remount, call drive.mount(\"/content/drive\", force_remount=True).\n"
          ],
          "name": "stdout"
        }
      ]
    },
    {
      "cell_type": "code",
      "metadata": {
        "id": "ctYO5YmaSSEj"
      },
      "source": [
        "## directory 설정\r\n",
        "\r\n",
        "# os.getcwd()\r\n",
        "# os.chdir(\"C:////\")\r\n",
        "# os.getcwd()"
      ],
      "execution_count": 185,
      "outputs": []
    },
    {
      "cell_type": "code",
      "metadata": {
        "id": "juTqu55JB191"
      },
      "source": [
        "import sys, os\r\n",
        "sys.path.append(os.pardir)  # 부모 디렉터리의 파일을 가져올 수 있도록 설정 \r\n",
        "from drive.MyDrive.sdmlab.DL.source.dataset.mnist import load_mnist"
      ],
      "execution_count": 186,
      "outputs": []
    },
    {
      "cell_type": "code",
      "metadata": {
        "id": "KKJGLBnuJltJ"
      },
      "source": [
        "(x_train, t_train), (x_test, t_test) = load_mnist(flatten = True, normalize = False)"
      ],
      "execution_count": 187,
      "outputs": []
    },
    {
      "cell_type": "code",
      "metadata": {
        "id": "jp_4MFpZMyWq",
        "colab": {
          "base_uri": "https://localhost:8080/"
        },
        "outputId": "eb4911c6-6e41-48fc-cba4-08c766d9b558"
      },
      "source": [
        "print(x_train.shape) # 훈련 이미지\r\n",
        "print(t_train.shape) # 훈련 레이블 \r\n",
        "print(x_test.shape)  # 시험 이미지 \r\n",
        "print(t_test.shape)  # 시험 레이블"
      ],
      "execution_count": 188,
      "outputs": [
        {
          "output_type": "stream",
          "text": [
            "(60000, 784)\n",
            "(60000,)\n",
            "(10000, 784)\n",
            "(10000,)\n"
          ],
          "name": "stdout"
        }
      ]
    },
    {
      "cell_type": "markdown",
      "metadata": {
        "id": "wZ1Q3TUGTGwo"
      },
      "source": [
        "* normalize : 입력 이미지의 픽셀값을 0과 1사이의 값으로 정규화할지 정함. \r\n",
        "* flatten : 입력 이미지를 평탄하게, 즉 1차원 배열로 만들지 정함. False로 설정하면  1 X 28 X 28의 3차원 배열로, True로 설정하면 784개의 원소로 이루어진 1차원 배열로 저장. \r\n",
        "* one_hot_label : 레이블을 one-hot encoding 형태로 저장할 지 정함. "
      ]
    },
    {
      "cell_type": "markdown",
      "metadata": {
        "id": "oEwvH3DSUQgq"
      },
      "source": [
        "※ pickle \\\\\r\n",
        "프로그램 실행 중에 특정 개체를 파일로 저장하는 기능. 저장해둔 pickle 파일을 로드하면 실행 당시의 객체를 즉시 복원할 수 있음.    \r\n",
        "MNIST 데이터셋을 읽는 load_mnist()함수에서도 (2번째 이후의 읽기 시) pickle을 이용. pickle 덕분에 mnist데이터를 순식간에 준비할 수 있음. "
      ]
    },
    {
      "cell_type": "code",
      "metadata": {
        "colab": {
          "base_uri": "https://localhost:8080/"
        },
        "id": "avN3WsrEU0Fj",
        "outputId": "c3a1c2a8-5deb-42f4-c29f-4573d477f633"
      },
      "source": [
        "# 이미지 확인 \r\n",
        "\r\n",
        "from PIL import Image\r\n",
        "\r\n",
        "def img_show(img) :\r\n",
        "  pil_img = Image.fromarray(np.uint8(img)) \r\n",
        "  # numpy 배열로 저장된 이미지 데이터를 PIL용으로 바꿈. \r\n",
        "  pil_img.show()\r\n",
        "\r\n",
        "img = x_train[0]  # 제일 처음 데이터의 이미지\r\n",
        "label = t_train[0]  # 제일 처음 데이터의 레이블 \r\n",
        "print(label)"
      ],
      "execution_count": 189,
      "outputs": [
        {
          "output_type": "stream",
          "text": [
            "5\n"
          ],
          "name": "stdout"
        }
      ]
    },
    {
      "cell_type": "code",
      "metadata": {
        "colab": {
          "base_uri": "https://localhost:8080/"
        },
        "id": "f1_J18XyU9_u",
        "outputId": "84055a7d-cd38-43c4-cb5e-ea9386c1154e"
      },
      "source": [
        "print(img.shape)"
      ],
      "execution_count": 190,
      "outputs": [
        {
          "output_type": "stream",
          "text": [
            "(784,)\n"
          ],
          "name": "stdout"
        }
      ]
    },
    {
      "cell_type": "code",
      "metadata": {
        "colab": {
          "base_uri": "https://localhost:8080/"
        },
        "id": "iLGXjKGvVtVu",
        "outputId": "66dcac14-16d3-4675-d62a-ff4b0fcfc894"
      },
      "source": [
        "img = img.reshape(28, 28)  # 원래의 픽셀 형태로\r\n",
        "print(img.shape)"
      ],
      "execution_count": 191,
      "outputs": [
        {
          "output_type": "stream",
          "text": [
            "(28, 28)\n"
          ],
          "name": "stdout"
        }
      ]
    },
    {
      "cell_type": "code",
      "metadata": {
        "id": "Iqi9ufxmV2nm"
      },
      "source": [
        "img_show(img)  ############ 이거 출력 안 되는데 ############"
      ],
      "execution_count": 192,
      "outputs": []
    },
    {
      "cell_type": "markdown",
      "metadata": {
        "id": "Bcr-lz8gV7B6"
      },
      "source": [
        "2. 신경망의 추론 정리 "
      ]
    },
    {
      "cell_type": "markdown",
      "metadata": {
        "id": "vesMRKc1W_aV"
      },
      "source": [
        "입력층 뉴런은 784개(28 X 28 = 784이기 때문), 출력층 뉴런은 10개로 신경망을 구성. 첫 번째 은닉층에는 50개의 뉴런, 두 번째 은닉층에는 100개의 뉴런으로 구성. 이는 임의로 설정한 값임. "
      ]
    },
    {
      "cell_type": "code",
      "metadata": {
        "id": "TpWOEmePcqJJ"
      },
      "source": [
        "# from drive.MyDrive.sdmlab.DL.source.ch03 import neuralnet_mnist\r\n",
        "## 요고 해결해야함...... \r\n",
        "# 디렉토리 깔끔하게 하기 !! "
      ],
      "execution_count": 193,
      "outputs": []
    },
    {
      "cell_type": "code",
      "metadata": {
        "id": "690QR3ioXg02"
      },
      "source": [
        "import pickle\r\n",
        "\r\n",
        "def get_data() :\r\n",
        "  (x_train, t_train), (x_test, t_test) = load_mnist(normalize = True, flatten = True, one_hot_label = False)\r\n",
        "  return x_test, t_test\r\n",
        "\r\n",
        "def init_network() :\r\n",
        "  with open(\"/content/drive/MyDrive/sdmlab/DL/source/ch03/sample_weight.pkl\", \"rb\") as f:\r\n",
        "    network = pickle.load(f)\r\n",
        "\r\n",
        "  return network\r\n",
        "\r\n",
        "def predict(network, x) :\r\n",
        "  W1, W2, W3 = network['W1'], network['W2'], network['W3']\r\n",
        "  b1, b2, b3 = network['b1'], network['b2'], network['b3']\r\n",
        "\r\n",
        "  a1 = np.dot(x, W1) + b1\r\n",
        "  z1 = sigmoid(a1)\r\n",
        "  a2 = np.dot(z1, W2) + b2\r\n",
        "  z2 = sigmoid(a2)\r\n",
        "  a3 = np.dot(z2, W3) + b3\r\n",
        "  y = softmax(a3)\r\n",
        "\r\n",
        "  return y"
      ],
      "execution_count": 194,
      "outputs": []
    },
    {
      "cell_type": "code",
      "metadata": {
        "colab": {
          "base_uri": "https://localhost:8080/"
        },
        "id": "tUrwHgo8aP2Y",
        "outputId": "dc709a31-4872-4963-949e-ee610e9edf6e"
      },
      "source": [
        "x, t = get_data()             # 데이터셋 불러들이기 \r\n",
        "network = init_network()      # initialization\r\n",
        "\r\n",
        "accuracy_cnt = 0\r\n",
        "for i in range(len(x)) :\r\n",
        "  y = predict(network, x[i])\r\n",
        "  p = np.argmax(y)            # 카테고리 확률이 가장 높은 원소의 인덱스\r\n",
        "  if p == t[i] :\r\n",
        "    accuracy_cnt += 1         # 맞힌 숫자의 수 => accuracy가 됨\r\n",
        "\r\n",
        "print(\"Accuracy:\" + str(float(accuracy_cnt) / len(x)))"
      ],
      "execution_count": 195,
      "outputs": [
        {
          "output_type": "stream",
          "text": [
            "Accuracy:0.9352\n"
          ],
          "name": "stdout"
        }
      ]
    },
    {
      "cell_type": "markdown",
      "metadata": {
        "id": "aazYq3xNfDvy"
      },
      "source": [
        "※ 백색화(whitening) : 전체 데이터를 균일하게 분포시키는 것"
      ]
    },
    {
      "cell_type": "markdown",
      "metadata": {
        "id": "NNCf5V4-cIpx"
      },
      "source": [
        "3. 배치처리 "
      ]
    },
    {
      "cell_type": "code",
      "metadata": {
        "colab": {
          "base_uri": "https://localhost:8080/"
        },
        "id": "fqL7TO3kfMli",
        "outputId": "932a4432-f95e-4bfa-8fb4-00cf56e03a69"
      },
      "source": [
        "# 신경망 각 층의 가중치 형상 출력\r\n",
        "\r\n",
        "x, _ = get_data()   # 저렇게 underbar로 하는 거 뭐지\r\n",
        "network = init_network()\r\n",
        "W1, W2, W3 = network['W1'], network['W2'], network['W3']\r\n",
        "x.shape"
      ],
      "execution_count": 196,
      "outputs": [
        {
          "output_type": "execute_result",
          "data": {
            "text/plain": [
              "(10000, 784)"
            ]
          },
          "metadata": {
            "tags": []
          },
          "execution_count": 196
        }
      ]
    },
    {
      "cell_type": "code",
      "metadata": {
        "colab": {
          "base_uri": "https://localhost:8080/"
        },
        "id": "B8tIbBssfyub",
        "outputId": "e07155f7-ae49-4806-dac6-a386f44a0e1a"
      },
      "source": [
        "x[0].shape  # 첫 번째 데이터의 정보"
      ],
      "execution_count": 197,
      "outputs": [
        {
          "output_type": "execute_result",
          "data": {
            "text/plain": [
              "(784,)"
            ]
          },
          "metadata": {
            "tags": []
          },
          "execution_count": 197
        }
      ]
    },
    {
      "cell_type": "code",
      "metadata": {
        "colab": {
          "base_uri": "https://localhost:8080/"
        },
        "id": "EHIsyoz8gJL8",
        "outputId": "c2c71888-ea61-404f-8d6d-9c72e9862e50"
      },
      "source": [
        "print(W1.shape) # 첫 번째 가중치\r\n",
        "print(W2.shape)\r\n",
        "print(W3.shape) # 마지막 가중치"
      ],
      "execution_count": 198,
      "outputs": [
        {
          "output_type": "stream",
          "text": [
            "(784, 50)\n",
            "(50, 100)\n",
            "(100, 10)\n"
          ],
          "name": "stdout"
        }
      ]
    },
    {
      "cell_type": "markdown",
      "metadata": {
        "id": "-2c2aDFQj3Xd"
      },
      "source": [
        "배치 처리는 컴퓨터로 계산할 때 큰 이점을 줌. 처리 시간을 대폭 줄여줌. "
      ]
    },
    {
      "cell_type": "code",
      "metadata": {
        "id": "zOSgXzzxkHyH"
      },
      "source": [
        "# 배치 처리 구현\r\n",
        "\r\n",
        "x, t = get_data()\r\n",
        "network = init_network()\r\n",
        "\r\n",
        "batch_size = 100  # 배치 크기 (무슨 배치 크기를 말하는 거지)\r\n",
        "accuracy_cnt = 0  # cnt : count약자 \r\n",
        "\r\n",
        "for i in range(0, len(x), batch_size) :\r\n",
        "  x_batch = x[i:i+batch_size]  # 100개씩 묶어서 생각함. \r\n",
        "  y_batch = predict(network, x_batch)\r\n",
        "  p = np.argmax(y_batch, axis = 1)\r\n",
        "  accuracy_cnt += np.sum(p == t[i:i+batch_size])"
      ],
      "execution_count": 199,
      "outputs": []
    },
    {
      "cell_type": "code",
      "metadata": {
        "colab": {
          "base_uri": "https://localhost:8080/"
        },
        "id": "WSJlHwsZlNBN",
        "outputId": "f8248aaf-6027-436b-c928-87d3eb241ba9"
      },
      "source": [
        "list(range(0, 10))"
      ],
      "execution_count": 200,
      "outputs": [
        {
          "output_type": "execute_result",
          "data": {
            "text/plain": [
              "[0, 1, 2, 3, 4, 5, 6, 7, 8, 9]"
            ]
          },
          "metadata": {
            "tags": []
          },
          "execution_count": 200
        }
      ]
    },
    {
      "cell_type": "code",
      "metadata": {
        "colab": {
          "base_uri": "https://localhost:8080/"
        },
        "id": "MpO36iumlTNA",
        "outputId": "f1ed1852-3f6c-462b-f458-5b0a09a8422f"
      },
      "source": [
        "list(range(0, 10, 3))"
      ],
      "execution_count": 201,
      "outputs": [
        {
          "output_type": "execute_result",
          "data": {
            "text/plain": [
              "[0, 3, 6, 9]"
            ]
          },
          "metadata": {
            "tags": []
          },
          "execution_count": 201
        }
      ]
    },
    {
      "cell_type": "code",
      "metadata": {
        "colab": {
          "base_uri": "https://localhost:8080/"
        },
        "id": "DPcl1vlSlUbs",
        "outputId": "00bae081-caee-464b-da48-5da4c73137aa"
      },
      "source": [
        "x = np.array([[0.1, 0.8, 0.1], [0.3, 0.1, 0.6], [0.2, 0.5, 0.3], [0.8, 0.1, 0.1]])\r\n",
        "y = np.argmax(x, axis = 1)  # 각 행에 대해서 max값 index 찾음.\r\n",
        "print(y)"
      ],
      "execution_count": 202,
      "outputs": [
        {
          "output_type": "stream",
          "text": [
            "[1 2 1 0]\n"
          ],
          "name": "stdout"
        }
      ]
    },
    {
      "cell_type": "code",
      "metadata": {
        "colab": {
          "base_uri": "https://localhost:8080/"
        },
        "id": "P6x02rLzlwOp",
        "outputId": "eb7d03d2-5643-4c48-8a56-a0921edc812a"
      },
      "source": [
        "y = np.array([1, 2, 1, 0])\r\n",
        "t = np.array([1, 2, 0, 0])\r\n",
        "print(y == t)\r\n",
        "np.sum(y == t)  # True count "
      ],
      "execution_count": 203,
      "outputs": [
        {
          "output_type": "stream",
          "text": [
            "[ True  True False  True]\n"
          ],
          "name": "stdout"
        },
        {
          "output_type": "execute_result",
          "data": {
            "text/plain": [
              "3"
            ]
          },
          "metadata": {
            "tags": []
          },
          "execution_count": 203
        }
      ]
    }
  ]
}